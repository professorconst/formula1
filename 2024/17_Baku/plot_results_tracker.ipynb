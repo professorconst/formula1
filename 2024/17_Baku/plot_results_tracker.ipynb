{
  "cells": [
    {
      "cell_type": "markdown",
      "metadata": {},
      "source": [
        "# Plot driver standings in a heatmap\n\nPlot the points for each driven in each race of a given season in a heatmap, as\nhttps://public.tableau.com/app/profile/mateusz.karmalski/viz/F1ResultsTracker2022\n"
      ]
    },
    {
      "cell_type": "code",
      "execution_count": null,
      "metadata": {
        "collapsed": false
      },
      "outputs": [],
      "source": [
        "import pandas as pd\nimport plotly.express as px\nfrom plotly.io import show\n\nfrom fastf1.ergast import Ergast"
      ]
    },
    {
      "cell_type": "markdown",
      "metadata": {},
      "source": [
        "First, we load the results for season 2022.\n\n"
      ]
    },
    {
      "cell_type": "code",
      "execution_count": null,
      "metadata": {
        "collapsed": false
      },
      "outputs": [],
      "source": [
        "ergast = Ergast()\nraces = ergast.get_race_schedule(2022)  # Races in year 2022\nresults = []\n\n# For each race in the season\nfor rnd, race in races['raceName'].items():\n\n    # Get results. Note that we use the round no. + 1, because the round no.\n    # starts from one (1) instead of zero (0)\n    temp = ergast.get_race_results(season=2022, round=rnd + 1)\n    temp = temp.content[0]\n\n    # If there is a sprint, get the results as well\n    sprint = ergast.get_sprint_results(season=2022, round=rnd + 1)\n    if sprint.content and sprint.description['round'][0] == rnd + 1:\n        temp = pd.merge(temp, sprint.content[0], on='driverCode', how='left')\n        # Add sprint points and race points to get the total\n        temp['points'] = temp['points_x'] + temp['points_y']\n        temp.drop(columns=['points_x', 'points_y'], inplace=True)\n\n    # Add round no. and grand prix name\n    temp['round'] = rnd + 1\n    temp['race'] = race.removesuffix(' Grand Prix')\n    temp = temp[['round', 'race', 'driverCode', 'points']]  # Keep useful cols.\n    results.append(temp)\n\n# Append all races into a single dataframe\nresults = pd.concat(results)\nraces = results['race'].drop_duplicates()"
      ]
    },
    {
      "cell_type": "markdown",
      "metadata": {},
      "source": [
        "Then we \u201creshape\u201d the results to a wide table, where each row represents a\ndriver and each column refers to a race, and the cell value is the points.\n\n"
      ]
    },
    {
      "cell_type": "code",
      "execution_count": null,
      "metadata": {
        "collapsed": false
      },
      "outputs": [],
      "source": [
        "results = results.pivot(index='driverCode', columns='round', values='points')\n# Here we have a 22-by-22 matrix (22 races and 22 drivers, incl. DEV and HUL)\n\n# Rank the drivers by their total points\nresults['total_points'] = results.sum(axis=1)\nresults = results.sort_values(by='total_points', ascending=False)\nresults.drop(columns='total_points', inplace=True)\n\n# Use race name, instead of round no., as column names\nresults.columns = races"
      ]
    },
    {
      "cell_type": "markdown",
      "metadata": {},
      "source": [
        "The final step is to plot a heatmap using plotly\n\n"
      ]
    },
    {
      "cell_type": "code",
      "execution_count": null,
      "metadata": {
        "collapsed": false
      },
      "outputs": [],
      "source": [
        "fig = px.imshow(\n    results,\n    text_auto=True,\n    aspect='auto',  # Automatically adjust the aspect ratio\n    color_continuous_scale=[[0,    'rgb(198, 219, 239)'],  # Blue scale\n                            [0.25, 'rgb(107, 174, 214)'],\n                            [0.5,  'rgb(33,  113, 181)'],\n                            [0.75, 'rgb(8,   81,  156)'],\n                            [1,    'rgb(8,   48,  107)']],\n    labels={'x': 'Race',\n            'y': 'Driver',\n            'color': 'Points'}       # Change hover texts\n)\nfig.update_xaxes(title_text='')      # Remove axis titles\nfig.update_yaxes(title_text='')\nfig.update_yaxes(tickmode='linear')  # Show all ticks, i.e. driver names\nfig.update_yaxes(showgrid=True, gridwidth=1, gridcolor='LightGrey',\n                 showline=False,\n                 tickson='boundaries')              # Show horizontal grid only\nfig.update_xaxes(showgrid=False, showline=False)    # And remove vertical grid\nfig.update_layout(plot_bgcolor='rgba(0,0,0,0)')     # White background\nfig.update_layout(coloraxis_showscale=False)        # Remove legend\nfig.update_layout(xaxis=dict(side='top'))           # x-axis on top\nfig.update_layout(margin=dict(l=0, r=0, b=0, t=0))  # Remove border margins\nfig\nshow(fig)"
      ]
    }
  ],
  "metadata": {
    "kernelspec": {
      "display_name": "Python 3",
      "language": "python",
      "name": "python3"
    },
    "language_info": {
      "codemirror_mode": {
        "name": "ipython",
        "version": 3
      },
      "file_extension": ".py",
      "mimetype": "text/x-python",
      "name": "python",
      "nbconvert_exporter": "python",
      "pygments_lexer": "ipython3",
      "version": "3.12.1"
    }
  },
  "nbformat": 4,
  "nbformat_minor": 0
}