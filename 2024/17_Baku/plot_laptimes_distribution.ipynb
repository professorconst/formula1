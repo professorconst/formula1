{
  "cells": [
    {
      "cell_type": "markdown",
      "metadata": {},
      "source": [
        "# Driver Laptimes Distribution Visualization\nVisualizae different drivers' laptime distributions.\n"
      ]
    },
    {
      "cell_type": "code",
      "execution_count": null,
      "metadata": {
        "collapsed": false
      },
      "outputs": [],
      "source": [
        "import seaborn as sns\nfrom matplotlib import pyplot as plt\n\nimport fastf1\nimport fastf1.plotting\n\n\n# Enable Matplotlib patches for plotting timedelta values and load\n# FastF1's dark color scheme\nfastf1.plotting.setup_mpl(mpl_timedelta_support=True, misc_mpl_mods=False,\n                          color_scheme='fastf1')"
      ]
    },
    {
      "cell_type": "markdown",
      "metadata": {},
      "source": [
        "Load the race session\n\n"
      ]
    },
    {
      "cell_type": "code",
      "execution_count": null,
      "metadata": {
        "collapsed": false
      },
      "outputs": [],
      "source": [
        "race = fastf1.get_session(2023, \"Azerbaijan\", 'R')\nrace.load()"
      ]
    },
    {
      "cell_type": "markdown",
      "metadata": {},
      "source": [
        "Get all the laps for the point finishers only.\nFilter out slow laps (yellow flag, VSC, pitstops etc.)\nas they distort the graph axis.\n\n"
      ]
    },
    {
      "cell_type": "code",
      "execution_count": null,
      "metadata": {
        "collapsed": false
      },
      "outputs": [],
      "source": [
        "point_finishers = race.drivers[:10]\nprint(point_finishers)\ndriver_laps = race.laps.pick_drivers(point_finishers).pick_quicklaps()\ndriver_laps = driver_laps.reset_index()"
      ]
    },
    {
      "cell_type": "markdown",
      "metadata": {},
      "source": [
        "To plot the drivers by finishing order,\nwe need to get their three-letter abbreviations in the finishing order.\n\n"
      ]
    },
    {
      "cell_type": "code",
      "execution_count": null,
      "metadata": {
        "collapsed": false
      },
      "outputs": [],
      "source": [
        "finishing_order = [race.get_driver(i)[\"Abbreviation\"] for i in point_finishers]\nprint(finishing_order)"
      ]
    },
    {
      "cell_type": "markdown",
      "metadata": {},
      "source": [
        "First create the violin plots to show the distributions.\nThen use the swarm plot to show the actual laptimes.\n\n"
      ]
    },
    {
      "cell_type": "code",
      "execution_count": null,
      "metadata": {
        "collapsed": false
      },
      "outputs": [],
      "source": [
        "# create the figure\nfig, ax = plt.subplots(figsize=(10, 5))\n\n# Seaborn doesn't have proper timedelta support,\n# so we have to convert timedelta to float (in seconds)\ndriver_laps[\"LapTime(s)\"] = driver_laps[\"LapTime\"].dt.total_seconds()\n\nsns.violinplot(data=driver_laps,\n               x=\"Driver\",\n               y=\"LapTime(s)\",\n               hue=\"Driver\",\n               inner=None,\n               density_norm=\"area\",\n               order=finishing_order,\n               palette=fastf1.plotting.get_driver_color_mapping(session=race)\n               )\n\nsns.swarmplot(data=driver_laps,\n              x=\"Driver\",\n              y=\"LapTime(s)\",\n              order=finishing_order,\n              hue=\"Compound\",\n              palette=fastf1.plotting.get_compound_mapping(session=race),\n              hue_order=[\"SOFT\", \"MEDIUM\", \"HARD\"],\n              linewidth=0,\n              size=4,\n              )"
      ]
    },
    {
      "cell_type": "markdown",
      "metadata": {},
      "source": [
        "Make the plot more aesthetic\n\n"
      ]
    },
    {
      "cell_type": "code",
      "execution_count": null,
      "metadata": {
        "collapsed": false
      },
      "outputs": [],
      "source": [
        "ax.set_xlabel(\"Driver\")\nax.set_ylabel(\"Lap Time (s)\")\nplt.suptitle(\"2023 Azerbaijan Grand Prix Lap Time Distributions\")\nsns.despine(left=True, bottom=True)\n\nplt.tight_layout()\nplt.show()"
      ]
    }
  ],
  "metadata": {
    "kernelspec": {
      "display_name": "Python 3",
      "language": "python",
      "name": "python3"
    },
    "language_info": {
      "codemirror_mode": {
        "name": "ipython",
        "version": 3
      },
      "file_extension": ".py",
      "mimetype": "text/x-python",
      "name": "python",
      "nbconvert_exporter": "python",
      "pygments_lexer": "ipython3",
      "version": "3.12.1"
    }
  },
  "nbformat": 4,
  "nbformat_minor": 0
}