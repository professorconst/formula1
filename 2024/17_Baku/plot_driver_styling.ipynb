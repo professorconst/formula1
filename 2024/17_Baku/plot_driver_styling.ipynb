{
  "cells": [
    {
      "cell_type": "markdown",
      "metadata": {},
      "source": [
        "# Driver specific plot styling\n\nCreate some plots and show the usage of ``fastf1.plotting.get_driver_style``.\n"
      ]
    },
    {
      "cell_type": "code",
      "execution_count": null,
      "metadata": {
        "collapsed": false
      },
      "outputs": [],
      "source": [
        "from matplotlib import pyplot as plt\n\nimport fastf1\nfrom fastf1 import plotting\n\n\n# Enable Matplotlib patches for plotting timedelta values and load\n# FastF1's dark color scheme\nfastf1.plotting.setup_mpl(mpl_timedelta_support=True, misc_mpl_mods=False,\n                          color_scheme='fastf1')"
      ]
    },
    {
      "cell_type": "markdown",
      "metadata": {},
      "source": [
        "Load the race session.\n\n"
      ]
    },
    {
      "cell_type": "code",
      "execution_count": null,
      "metadata": {
        "collapsed": false
      },
      "outputs": [],
      "source": [
        "race = fastf1.get_session(2023, \"Azerbaijan\", 'R')\nrace.load()"
      ]
    },
    {
      "cell_type": "markdown",
      "metadata": {},
      "source": [
        "## Basic driver-specific plot styling\nPlot all the laps for Hamilton, Russel, Perez and Verstappen.\nFilter out slow laps as they distort the graph axis.\nNote: as LapTime is represented by timedelta, calling ``setup_mpl`` earlier\nis required.\n\n"
      ]
    },
    {
      "cell_type": "code",
      "execution_count": null,
      "metadata": {
        "collapsed": false
      },
      "outputs": [],
      "source": [
        "fig, ax = plt.subplots(figsize=(8, 5))\n\nfor driver in ('HAM', 'PER', 'VER', 'RUS'):\n    laps = race.laps.pick_driver(driver).pick_quicklaps().reset_index()\n    style = plotting.get_driver_style(identifier=driver,\n                                      style=['color', 'linestyle'],\n                                      session=race)\n    ax.plot(laps['LapTime'], **style, label=driver)\n\n# add axis labels and a legend\nax.set_xlabel(\"Lap Number\")\nax.set_ylabel(\"Lap Time\")\nax.legend()"
      ]
    },
    {
      "cell_type": "markdown",
      "metadata": {},
      "source": [
        "## Sorting the legend\nThat plot looks pretty good already, but the order of the labels in the\nlegend is slightly chaotic. Instead of trying to order the labels manually,\nuse :func:`fastf1.plotting.add_sorted_driver_legend`.\nLet's create the exact same plot again, but this time with a sorted legend\nwhich means, we only change the very last function call.\n\n"
      ]
    },
    {
      "cell_type": "code",
      "execution_count": null,
      "metadata": {
        "collapsed": false
      },
      "outputs": [],
      "source": [
        "fig, ax = plt.subplots(figsize=(8, 5))\n\nfor driver in ('HAM', 'PER', 'VER', 'RUS'):\n    laps = race.laps.pick_driver(driver).pick_quicklaps().reset_index()\n    style = plotting.get_driver_style(identifier=driver,\n                                      style=['color', 'linestyle'],\n                                      session=race)\n    ax.plot(laps['LapTime'], **style, label=driver)\n\n# add axis labels and a legend\nax.set_xlabel(\"Lap Number\")\nax.set_ylabel(\"Lap Time\")\nplotting.add_sorted_driver_legend(ax, race)"
      ]
    },
    {
      "cell_type": "markdown",
      "metadata": {},
      "source": [
        "## Creating fully custom styles\nIf you want to fully customize the plot style, you can define your own\nstyling variants.\n\nNote that the value ``'auto'`` is treated as a magic keyword when used in\ncombination with a color. It will be replaced with the team color.\n\nWe define two styles, one for the first driver and one for the second driver\nin any team.\n\nThe plot that is generated here isn't intended to be very readable, but it\nshows how you can customize any plot styling parameter.\n\n"
      ]
    },
    {
      "cell_type": "code",
      "execution_count": null,
      "metadata": {
        "collapsed": false
      },
      "outputs": [],
      "source": [
        "my_styles = [\n    # style for each first driver\n    {'color': 'auto', 'linestyle': 'solid', 'linewidth': 5, 'alpha': 0.3},\n    # style for each second driver\n    {'color': 'auto', 'linestyle': 'solid', 'linewidth': 1, 'alpha': 0.7}\n]\n\nfig, ax = plt.subplots(figsize=(8, 5))\n\nfor driver in ('HAM', 'PER', 'VER', 'RUS'):\n    laps = race.laps.pick_driver(driver).pick_quicklaps().reset_index()\n\n    # here, we now use ``style=my_style`` to use the custom styling\n    style = plotting.get_driver_style(identifier=driver,\n                                      style=my_styles,\n                                      session=race)\n\n    ax.plot(laps['LapTime'], **style, label=driver)\n\n# add axis labels and a legend\nax.set_xlabel(\"Lap Number\")\nax.set_ylabel(\"Lap Time\")\nplotting.add_sorted_driver_legend(ax, race)\nplt.show()"
      ]
    }
  ],
  "metadata": {
    "kernelspec": {
      "display_name": "Python 3",
      "language": "python",
      "name": "python3"
    },
    "language_info": {
      "codemirror_mode": {
        "name": "ipython",
        "version": 3
      },
      "file_extension": ".py",
      "mimetype": "text/x-python",
      "name": "python",
      "nbconvert_exporter": "python",
      "pygments_lexer": "ipython3",
      "version": "3.12.1"
    }
  },
  "nbformat": 4,
  "nbformat_minor": 0
}